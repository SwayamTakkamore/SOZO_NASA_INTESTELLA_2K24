{
 "cells": [
  {
   "cell_type": "code",
   "execution_count": 2,
   "id": "77abc118-1cb6-4e33-b994-115dc4c74d95",
   "metadata": {},
   "outputs": [],
   "source": [
    "import numpy as np\n",
    "import pandas as pd\n",
    "from obspy import read\n",
    "from datetime import datetime, timedelta\n",
    "import matplotlib.pyplot as plt\n",
    "import os\n",
    "import random"
   ]
  },
  {
   "cell_type": "code",
   "execution_count": 3,
   "id": "f07a919e-62c3-4127-b2ca-0a37ff1e0401",
   "metadata": {},
   "outputs": [
    {
     "data": {
      "text/html": [
       "<div>\n",
       "<style scoped>\n",
       "    .dataframe tbody tr th:only-of-type {\n",
       "        vertical-align: middle;\n",
       "    }\n",
       "\n",
       "    .dataframe tbody tr th {\n",
       "        vertical-align: top;\n",
       "    }\n",
       "\n",
       "    .dataframe thead th {\n",
       "        text-align: right;\n",
       "    }\n",
       "</style>\n",
       "<table border=\"1\" class=\"dataframe\">\n",
       "  <thead>\n",
       "    <tr style=\"text-align: right;\">\n",
       "      <th></th>\n",
       "      <th>filename</th>\n",
       "      <th>time_abs(%Y-%m-%dT%H:%M:%S.%f)</th>\n",
       "      <th>time_rel(sec)</th>\n",
       "      <th>evid</th>\n",
       "      <th>mq_type</th>\n",
       "    </tr>\n",
       "  </thead>\n",
       "  <tbody>\n",
       "    <tr>\n",
       "      <th>0</th>\n",
       "      <td>xa.s12.00.mhz.1970-01-19HR00_evid00002</td>\n",
       "      <td>1970-01-19T20:25:00.000000</td>\n",
       "      <td>73500.0</td>\n",
       "      <td>evid00002</td>\n",
       "      <td>impact_mq</td>\n",
       "    </tr>\n",
       "    <tr>\n",
       "      <th>1</th>\n",
       "      <td>xa.s12.00.mhz.1970-03-25HR00_evid00003</td>\n",
       "      <td>1970-03-25T03:32:00.000000</td>\n",
       "      <td>12720.0</td>\n",
       "      <td>evid00003</td>\n",
       "      <td>impact_mq</td>\n",
       "    </tr>\n",
       "    <tr>\n",
       "      <th>2</th>\n",
       "      <td>xa.s12.00.mhz.1970-03-26HR00_evid00004</td>\n",
       "      <td>1970-03-26T20:17:00.000000</td>\n",
       "      <td>73020.0</td>\n",
       "      <td>evid00004</td>\n",
       "      <td>impact_mq</td>\n",
       "    </tr>\n",
       "    <tr>\n",
       "      <th>3</th>\n",
       "      <td>xa.s12.00.mhz.1970-04-25HR00_evid00006</td>\n",
       "      <td>1970-04-25T01:14:00.000000</td>\n",
       "      <td>4440.0</td>\n",
       "      <td>evid00006</td>\n",
       "      <td>impact_mq</td>\n",
       "    </tr>\n",
       "    <tr>\n",
       "      <th>4</th>\n",
       "      <td>xa.s12.00.mhz.1970-04-26HR00_evid00007</td>\n",
       "      <td>1970-04-26T14:29:00.000000</td>\n",
       "      <td>52140.0</td>\n",
       "      <td>evid00007</td>\n",
       "      <td>deep_mq</td>\n",
       "    </tr>\n",
       "    <tr>\n",
       "      <th>...</th>\n",
       "      <td>...</td>\n",
       "      <td>...</td>\n",
       "      <td>...</td>\n",
       "      <td>...</td>\n",
       "      <td>...</td>\n",
       "    </tr>\n",
       "    <tr>\n",
       "      <th>71</th>\n",
       "      <td>xa.s12.00.mhz.1974-10-14HR00_evid00156</td>\n",
       "      <td>1974-10-14T17:43:00.000000</td>\n",
       "      <td>63780.0</td>\n",
       "      <td>evid00156</td>\n",
       "      <td>impact_mq</td>\n",
       "    </tr>\n",
       "    <tr>\n",
       "      <th>72</th>\n",
       "      <td>xa.s12.00.mhz.1975-04-12HR00_evid00191</td>\n",
       "      <td>1975-04-12T18:15:00.000000</td>\n",
       "      <td>65700.0</td>\n",
       "      <td>evid00191</td>\n",
       "      <td>impact_mq</td>\n",
       "    </tr>\n",
       "    <tr>\n",
       "      <th>73</th>\n",
       "      <td>xa.s12.00.mhz.1975-05-04HR00_evid00192</td>\n",
       "      <td>1975-05-04T10:05:00.000000</td>\n",
       "      <td>36300.0</td>\n",
       "      <td>evid00192</td>\n",
       "      <td>impact_mq</td>\n",
       "    </tr>\n",
       "    <tr>\n",
       "      <th>74</th>\n",
       "      <td>xa.s12.00.mhz.1975-06-24HR00_evid00196</td>\n",
       "      <td>1975-06-24T16:03:00.000000</td>\n",
       "      <td>57780.0</td>\n",
       "      <td>evid00196</td>\n",
       "      <td>impact_mq</td>\n",
       "    </tr>\n",
       "    <tr>\n",
       "      <th>75</th>\n",
       "      <td>xa.s12.00.mhz.1975-06-26HR00_evid00198</td>\n",
       "      <td>1975-06-26T03:24:00.000000</td>\n",
       "      <td>12240.0</td>\n",
       "      <td>evid00198</td>\n",
       "      <td>impact_mq</td>\n",
       "    </tr>\n",
       "  </tbody>\n",
       "</table>\n",
       "<p>76 rows × 5 columns</p>\n",
       "</div>"
      ],
      "text/plain": [
       "                                  filename time_abs(%Y-%m-%dT%H:%M:%S.%f)  \\\n",
       "0   xa.s12.00.mhz.1970-01-19HR00_evid00002     1970-01-19T20:25:00.000000   \n",
       "1   xa.s12.00.mhz.1970-03-25HR00_evid00003     1970-03-25T03:32:00.000000   \n",
       "2   xa.s12.00.mhz.1970-03-26HR00_evid00004     1970-03-26T20:17:00.000000   \n",
       "3   xa.s12.00.mhz.1970-04-25HR00_evid00006     1970-04-25T01:14:00.000000   \n",
       "4   xa.s12.00.mhz.1970-04-26HR00_evid00007     1970-04-26T14:29:00.000000   \n",
       "..                                     ...                            ...   \n",
       "71  xa.s12.00.mhz.1974-10-14HR00_evid00156     1974-10-14T17:43:00.000000   \n",
       "72  xa.s12.00.mhz.1975-04-12HR00_evid00191     1975-04-12T18:15:00.000000   \n",
       "73  xa.s12.00.mhz.1975-05-04HR00_evid00192     1975-05-04T10:05:00.000000   \n",
       "74  xa.s12.00.mhz.1975-06-24HR00_evid00196     1975-06-24T16:03:00.000000   \n",
       "75  xa.s12.00.mhz.1975-06-26HR00_evid00198     1975-06-26T03:24:00.000000   \n",
       "\n",
       "    time_rel(sec)       evid    mq_type  \n",
       "0         73500.0  evid00002  impact_mq  \n",
       "1         12720.0  evid00003  impact_mq  \n",
       "2         73020.0  evid00004  impact_mq  \n",
       "3          4440.0  evid00006  impact_mq  \n",
       "4         52140.0  evid00007    deep_mq  \n",
       "..            ...        ...        ...  \n",
       "71        63780.0  evid00156  impact_mq  \n",
       "72        65700.0  evid00191  impact_mq  \n",
       "73        36300.0  evid00192  impact_mq  \n",
       "74        57780.0  evid00196  impact_mq  \n",
       "75        12240.0  evid00198  impact_mq  \n",
       "\n",
       "[76 rows x 5 columns]"
      ]
     },
     "execution_count": 3,
     "metadata": {},
     "output_type": "execute_result"
    }
   ],
   "source": [
    "cat_directory = './data/lunar/training/catalogs/'\n",
    "cat_file = cat_directory + 'apollo12_catalog_GradeA_final.csv'\n",
    "cat = pd.read_csv(cat_file)\n",
    "cat"
   ]
  },
  {
   "cell_type": "code",
   "execution_count": 4,
   "id": "4eef428e-bc0e-4a22-bc62-4df661abae35",
   "metadata": {},
   "outputs": [
    {
     "data": {
      "text/plain": [
       "datetime.datetime(1973, 3, 24, 19, 23)"
      ]
     },
     "execution_count": 4,
     "metadata": {},
     "output_type": "execute_result"
    }
   ],
   "source": [
    "row = cat.iloc[random.randint(0,len(cat))]\n",
    "arrival_time = datetime.strptime(row['time_abs(%Y-%m-%dT%H:%M:%S.%f)'],'%Y-%m-%dT%H:%M:%S.%f')\n",
    "arrival_time"
   ]
  },
  {
   "cell_type": "code",
   "execution_count": 5,
   "id": "fd1d6259-282d-4961-bf99-311ab8a738b8",
   "metadata": {},
   "outputs": [
    {
     "data": {
      "text/plain": [
       "69780.0"
      ]
     },
     "execution_count": 5,
     "metadata": {},
     "output_type": "execute_result"
    }
   ],
   "source": [
    "# If we want the value of relative time, we don't need to use datetime\n",
    "arrival_time_rel = row['time_rel(sec)']\n",
    "arrival_time_rel"
   ]
  },
  {
   "cell_type": "code",
   "execution_count": 6,
   "id": "70e0286f-9171-4af0-9ecb-af501a163e6a",
   "metadata": {},
   "outputs": [
    {
     "data": {
      "text/plain": [
       "'xa.s12.00.mhz.1973-03-24HR00_evid00097'"
      ]
     },
     "execution_count": 6,
     "metadata": {},
     "output_type": "execute_result"
    }
   ],
   "source": [
    "# Let's also get the name of the file\n",
    "test_filename = row.filename\n",
    "test_filename"
   ]
  },
  {
   "cell_type": "code",
   "execution_count": 7,
   "id": "69ef060c-34d1-43a2-b4fd-be599d4c684e",
   "metadata": {},
   "outputs": [
    {
     "data": {
      "text/html": [
       "<div>\n",
       "<style scoped>\n",
       "    .dataframe tbody tr th:only-of-type {\n",
       "        vertical-align: middle;\n",
       "    }\n",
       "\n",
       "    .dataframe tbody tr th {\n",
       "        vertical-align: top;\n",
       "    }\n",
       "\n",
       "    .dataframe thead th {\n",
       "        text-align: right;\n",
       "    }\n",
       "</style>\n",
       "<table border=\"1\" class=\"dataframe\">\n",
       "  <thead>\n",
       "    <tr style=\"text-align: right;\">\n",
       "      <th></th>\n",
       "      <th>time_abs(%Y-%m-%dT%H:%M:%S.%f)</th>\n",
       "      <th>time_rel(sec)</th>\n",
       "      <th>velocity(m/s)</th>\n",
       "    </tr>\n",
       "  </thead>\n",
       "  <tbody>\n",
       "    <tr>\n",
       "      <th>0</th>\n",
       "      <td>1973-03-24T00:00:00.606000</td>\n",
       "      <td>0.000000</td>\n",
       "      <td>2.654473e-15</td>\n",
       "    </tr>\n",
       "    <tr>\n",
       "      <th>1</th>\n",
       "      <td>1973-03-24T00:00:00.756943</td>\n",
       "      <td>0.150943</td>\n",
       "      <td>1.496578e-15</td>\n",
       "    </tr>\n",
       "    <tr>\n",
       "      <th>2</th>\n",
       "      <td>1973-03-24T00:00:00.907887</td>\n",
       "      <td>0.301887</td>\n",
       "      <td>4.665899e-16</td>\n",
       "    </tr>\n",
       "    <tr>\n",
       "      <th>3</th>\n",
       "      <td>1973-03-24T00:00:01.058830</td>\n",
       "      <td>0.452830</td>\n",
       "      <td>2.721695e-16</td>\n",
       "    </tr>\n",
       "    <tr>\n",
       "      <th>4</th>\n",
       "      <td>1973-03-24T00:00:01.209774</td>\n",
       "      <td>0.603774</td>\n",
       "      <td>9.075782e-16</td>\n",
       "    </tr>\n",
       "    <tr>\n",
       "      <th>...</th>\n",
       "      <td>...</td>\n",
       "      <td>...</td>\n",
       "      <td>...</td>\n",
       "    </tr>\n",
       "    <tr>\n",
       "      <th>572258</th>\n",
       "      <td>1973-03-24T23:59:39.172038</td>\n",
       "      <td>86378.566038</td>\n",
       "      <td>-2.532181e-16</td>\n",
       "    </tr>\n",
       "    <tr>\n",
       "      <th>572259</th>\n",
       "      <td>1973-03-24T23:59:39.322981</td>\n",
       "      <td>86378.716981</td>\n",
       "      <td>-3.512254e-16</td>\n",
       "    </tr>\n",
       "    <tr>\n",
       "      <th>572260</th>\n",
       "      <td>1973-03-24T23:59:39.473925</td>\n",
       "      <td>86378.867925</td>\n",
       "      <td>-4.041914e-16</td>\n",
       "    </tr>\n",
       "    <tr>\n",
       "      <th>572261</th>\n",
       "      <td>1973-03-24T23:59:39.624868</td>\n",
       "      <td>86379.018868</td>\n",
       "      <td>-5.447781e-16</td>\n",
       "    </tr>\n",
       "    <tr>\n",
       "      <th>572262</th>\n",
       "      <td>1973-03-24T23:59:39.775811</td>\n",
       "      <td>86379.169811</td>\n",
       "      <td>-8.253286e-16</td>\n",
       "    </tr>\n",
       "  </tbody>\n",
       "</table>\n",
       "<p>572263 rows × 3 columns</p>\n",
       "</div>"
      ],
      "text/plain": [
       "       time_abs(%Y-%m-%dT%H:%M:%S.%f)  time_rel(sec)  velocity(m/s)\n",
       "0          1973-03-24T00:00:00.606000       0.000000   2.654473e-15\n",
       "1          1973-03-24T00:00:00.756943       0.150943   1.496578e-15\n",
       "2          1973-03-24T00:00:00.907887       0.301887   4.665899e-16\n",
       "3          1973-03-24T00:00:01.058830       0.452830   2.721695e-16\n",
       "4          1973-03-24T00:00:01.209774       0.603774   9.075782e-16\n",
       "...                               ...            ...            ...\n",
       "572258     1973-03-24T23:59:39.172038   86378.566038  -2.532181e-16\n",
       "572259     1973-03-24T23:59:39.322981   86378.716981  -3.512254e-16\n",
       "572260     1973-03-24T23:59:39.473925   86378.867925  -4.041914e-16\n",
       "572261     1973-03-24T23:59:39.624868   86379.018868  -5.447781e-16\n",
       "572262     1973-03-24T23:59:39.775811   86379.169811  -8.253286e-16\n",
       "\n",
       "[572263 rows x 3 columns]"
      ]
     },
     "execution_count": 7,
     "metadata": {},
     "output_type": "execute_result"
    }
   ],
   "source": [
    "data_directory = './data/lunar/training/data/S12_GradeA/'\n",
    "csv_file = f'{data_directory}{test_filename}.csv'\n",
    "data = pd.read_csv(csv_file)\n",
    "data"
   ]
  },
  {
   "cell_type": "code",
   "execution_count": 8,
   "id": "6a2e7e00-e76e-4e0d-abb5-b2e150a07c94",
   "metadata": {},
   "outputs": [
    {
     "name": "stdout",
     "output_type": "stream",
     "text": [
      "Initial Data:\n",
      "  time_abs(%Y-%m-%dT%H:%M:%S.%f)  time_rel(sec)  velocity(m/s)\n",
      "0     1973-03-24T00:00:00.606000       0.000000   2.654473e-15\n",
      "1     1973-03-24T00:00:00.756943       0.150943   1.496578e-15\n",
      "2     1973-03-24T00:00:00.907887       0.301887   4.665899e-16\n",
      "3     1973-03-24T00:00:01.058830       0.452830   2.721695e-16\n",
      "4     1973-03-24T00:00:01.209774       0.603774   9.075782e-16\n"
     ]
    }
   ],
   "source": [
    "print(\"Initial Data:\")\n",
    "print(data.head())"
   ]
  },
  {
   "cell_type": "code",
   "execution_count": 9,
   "id": "0ee730b4-6803-4ad5-aa06-14599bf0aaa8",
   "metadata": {},
   "outputs": [
    {
     "name": "stdout",
     "output_type": "stream",
     "text": [
      "<class 'pandas.core.frame.DataFrame'>\n",
      "RangeIndex: 572263 entries, 0 to 572262\n",
      "Data columns (total 3 columns):\n",
      " #   Column                          Non-Null Count   Dtype  \n",
      "---  ------                          --------------   -----  \n",
      " 0   time_abs(%Y-%m-%dT%H:%M:%S.%f)  572263 non-null  object \n",
      " 1   time_rel(sec)                   572263 non-null  float64\n",
      " 2   velocity(m/s)                   572263 non-null  float64\n",
      "dtypes: float64(2), object(1)\n",
      "memory usage: 13.1+ MB\n",
      "None\n"
     ]
    }
   ],
   "source": [
    "print(data.info())  # Get information about the dataframe"
   ]
  },
  {
   "cell_type": "code",
   "execution_count": 10,
   "id": "b425ff99-d4a6-4009-849f-c11722fa792d",
   "metadata": {},
   "outputs": [
    {
     "name": "stdout",
     "output_type": "stream",
     "text": [
      "       time_rel(sec)  velocity(m/s)\n",
      "count  572263.000000   5.722630e+05\n",
      "mean    43189.584906  -1.811964e-13\n",
      "std     24935.583832   3.235005e-10\n",
      "min         0.000000  -4.620258e-09\n",
      "25%     21594.792453  -1.674875e-10\n",
      "50%     43189.584906   2.145629e-13\n",
      "75%     64784.377358   1.699761e-10\n",
      "max     86379.169811   4.506163e-09\n"
     ]
    }
   ],
   "source": [
    "print(data.describe())  # Get descriptive statistics"
   ]
  },
  {
   "cell_type": "code",
   "execution_count": 11,
   "id": "c3e76871-b933-448e-a7e7-260199c176ce",
   "metadata": {},
   "outputs": [
    {
     "name": "stdout",
     "output_type": "stream",
     "text": [
      "\n",
      "UnCleaned Column Names:\n",
      "Index(['time_abs(%Y-%m-%dT%H:%M:%S.%f)', 'time_rel(sec)', 'velocity(m/s)'], dtype='object')\n"
     ]
    }
   ],
   "source": [
    "print(\"\\nUnCleaned Column Names:\")\n",
    "print(data.columns)"
   ]
  },
  {
   "cell_type": "code",
   "execution_count": 12,
   "id": "da2610b2-b402-49fb-b1e9-0c7f5a51c155",
   "metadata": {},
   "outputs": [],
   "source": [
    "data.columns = (data.columns\n",
    "                 .str.strip()  # Remove leading/trailing whitespace\n",
    "                 .str.replace(r'time_abs\\(\\%Y-\\%m-\\%dT\\%H:\\%M:\\%S\\.\\%f\\)', 'time_abs', regex=True)\n",
    "                 .str.replace(r'time_rel\\(sec\\)', 'time_rel', regex=True)\n",
    "                 .str.replace(r'velocity\\(m/s\\)', 'velocity_m_s', regex=True)\n",
    "                 .str.replace(r'[-]', '_', regex=True)  # Replace dashes with underscores\n",
    "                 .str.replace(r'\\s+', '_', regex=True)  # Replace spaces with underscores\n",
    "                 .str.replace(r'[()]', '', regex=True)  # Remove parentheses\n",
    "                 .str.replace(r'[\\%]', '', regex=True)  # Remove percentage signs\n",
    "                )"
   ]
  },
  {
   "cell_type": "code",
   "execution_count": 13,
   "id": "ac15b153-44eb-4a2b-8145-6d664cdcce75",
   "metadata": {},
   "outputs": [
    {
     "name": "stdout",
     "output_type": "stream",
     "text": [
      "\n",
      "Cleaned Column Names:\n",
      "Index(['time_abs', 'time_rel', 'velocity_m_s'], dtype='object')\n"
     ]
    }
   ],
   "source": [
    "print(\"\\nCleaned Column Names:\")\n",
    "print(data.columns)"
   ]
  },
  {
   "cell_type": "code",
   "execution_count": 14,
   "id": "969d5d83-aad0-4d0a-9cd4-5c35827a6758",
   "metadata": {},
   "outputs": [],
   "source": [
    "# Strip any leading/trailing whitespace from the column names\n",
    "data.columns = data.columns.str.strip()\n",
    "\n",
    "# Alternatively, you can rename specific columns if needed\n",
    "data.rename(columns={\n",
    "    'time_abs(%Y-%m-%dT%H:%M:%S.%f)': 'time_abs',\n",
    "    'time_rel(sec)': 'time_rel',\n",
    "    'velocity_m_s': 'velocity(m/s)'\n",
    "}, inplace=True)\n"
   ]
  },
  {
   "cell_type": "code",
   "execution_count": null,
   "id": "ca272d07-3e77-489e-8a1a-400a5736010b",
   "metadata": {},
   "outputs": [],
   "source": [
    "plt.figure(figsize=(12, 6))\n",
    "plt.plot(data['time_abs'], data['velocity(m/s)'], label='Raw Velocity Data', alpha=0.6)\n",
    "plt.xlabel('Time (UTC)')\n",
    "plt.ylabel('Velocity (m/s)')\n",
    "plt.title('Seismic Velocity Data')\n",
    "plt.legend()\n",
    "plt.xticks(rotation=45)  # Rotate x-axis labels for better readability\n",
    "plt.tight_layout()  # Adjust layout to make room for rotated labels\n",
    "plt.show()"
   ]
  },
  {
   "cell_type": "code",
   "execution_count": null,
   "id": "94d19a3c-21df-4ffb-b50a-f9c462df265f",
   "metadata": {},
   "outputs": [],
   "source": [
    "from scipy.signal import butter, filtfilt\n",
    "\n",
    "def highpass_filter(data, cutoff, fs, order=5):\n",
    "    nyq = 0.5 * fs\n",
    "    normal_cutoff = cutoff / nyq\n",
    "    b, a = butter(order, normal_cutoff, btype='high', analog=False)\n",
    "    y = filtfilt(b, a, data)\n",
    "    return y"
   ]
  },
  {
   "cell_type": "code",
   "execution_count": null,
   "id": "8048740e-f71f-4161-a436-b58f046ebc0a",
   "metadata": {},
   "outputs": [],
   "source": [
    "plt.figure(figsize=(12, 6))\n",
    "plt.plot(data['time_abs'], data['velocity(m/s)'], label='Raw Velocity Data', alpha=0.6)\n",
    "plt.xlabel('Time (UTC)')\n",
    "plt.ylabel('Velocity (m/s)')\n",
    "plt.title('Seismic Velocity Data')\n",
    "plt.legend()\n",
    "plt.xticks(rotation=45)  # Rotate x-axis labels for better readability\n",
    "plt.tight_layout()  # Adjust layout to make room for rotated labels\n",
    "plt.show()"
   ]
  },
  {
   "cell_type": "code",
   "execution_count": null,
   "id": "57c23b1a-a745-4136-8b6a-6ea25dff4a96",
   "metadata": {},
   "outputs": [],
   "source": [
    "# Apply the highpass filter to the cleaned column name\n",
    "fs = 10  # Sampling frequency (Hz) – adjust based on your data\n",
    "cutoff = 1.0  # Cut-off frequency (Hz)\n",
    "\n",
    "data['filtered_velocity'] = highpass_filter(data['velocity(m/s)'], cutoff, fs)\n",
    "\n",
    "\n",
    "plt.figure(figsize=(12, 6))\n",
    "plt.plot(data['time_abs'], data['velocity(m/s)'], label='Raw Velocity Data', alpha=0.6)\n",
    "plt.plot(data['time_abs'], data['filtered_velocity'], label='Filtered Velocity Data', linestyle='--')\n",
    "plt.xlabel('Time (UTC)')\n",
    "plt.ylabel('Velocity (m/s)')\n",
    "plt.title('Seismic Velocity Data')\n",
    "plt.legend()\n",
    "plt.xticks(rotation=45)  # Rotate x-axis labels for better readability\n",
    "plt.tight_layout()  # Adjust layout to make room for rotated labels\n",
    "plt.show()"
   ]
  },
  {
   "cell_type": "code",
   "execution_count": null,
   "id": "323481ce-1359-4361-9c72-9a714094f391",
   "metadata": {},
   "outputs": [],
   "source": [
    "print(\"Initial Data:\")\n",
    "print(data.head())\n",
    "\n",
    "# Step 1: Clean Column Names\n",
    "data.columns = (data.columns\n",
    "                 .str.strip()  # Remove leading/trailing whitespace\n",
    "                 .str.replace(r'time_abs\\(\\%Y-\\%m-\\%dT\\%H:\\%M:\\%S\\.\\%f\\)', 'time_abs', regex=True)\n",
    "                 .str.replace(r'time_rel\\(sec\\)', 'time_rel', regex=True)\n",
    "                 .str.replace(r'velocity\\(m/s\\)', 'velocity_m_s', regex=True)\n",
    "                 .str.replace(r'[-]', '_', regex=True)  # Replace dashes with underscores\n",
    "                 .str.replace(r'\\s+', '_', regex=True)  # Replace spaces with underscores\n",
    "                 .str.replace(r'[()]', '', regex=True)  # Remove parentheses\n",
    "                 .str.replace(r'[\\%]', '', regex=True)  # Remove percentage signs\n",
    "                )\n",
    "\n",
    "# Display cleaned column names to debug\n",
    "print(\"\\nCleaned Column Names:\")\n",
    "print(data.columns)\n",
    "\n",
    "# Step 2: Check if the cleaned column names contain the expected names\n",
    "if 'time_abs' in data.columns:\n",
    "    # Convert time_abs column to datetime\n",
    "    data['time_abs'] = pd.to_datetime(data['time_absY-m-dTH:M:S.f'])\n",
    "else:\n",
    "    print(\"Column 'time_abs' not found after cleaning. Available columns are:\")\n",
    "    print(data.columns)\n",
    "\n",
    "# Highpass Filter Function\n",
    "def highpass_filter(data, cutoff, fs, order=5):\n",
    "    nyq = 0.5 * fs  # Nyquist Frequency\n",
    "    normal_cutoff = cutoff / nyq  # Normalized Cut-off Frequency\n",
    "    b, a = butter(order, normal_cutoff, btype='high', analog=False)\n",
    "    y = filtfilt(b, a, data)  # Apply the filter\n",
    "    return y\n",
    "\n",
    "# Step 3: Apply the highpass filter to the velocity data\n",
    "fs = 10  # Sampling frequency (Hz) – adjust based on your data\n",
    "cutoff = 1.0  # Cut-off frequency (Hz)\n",
    "\n",
    "if 'velocity_m_s' in data.columns:\n",
    "    data['filtered_velocity'] = highpass_filter(data['velocitym/s'], cutoff, fs)\n",
    "\n",
    "    # Step 4: Plotting\n",
    "    plt.figure(figsize=(12, 6))\n",
    "    plt.plot(data['time_abs'], data['velocitym/s'], label='Raw Velocity Data', alpha=0.6)\n",
    "    plt.plot(data['time_abs'], data['filtered_velocity'], label='Filtered Velocity Data', linestyle='--')\n",
    "    plt.xlabel('Time (UTC)')\n",
    "    plt.ylabel('Velocity (m/s)')\n",
    "    plt.title('Seismic Velocity Data')\n",
    "    plt.legend()\n",
    "    plt.xticks(rotation=45)  # Rotate x-axis labels for better readability\n",
    "    plt.tight_layout()  # Adjust layout to make room for rotated labels\n",
    "    plt.show()\n",
    "else:\n",
    "    print(\"Column 'velocity_m_s' not found after cleaning.\")\n"
   ]
  },
  {
   "cell_type": "code",
   "execution_count": null,
   "id": "cdac6c9a-9f1b-4652-a300-3226f0b1686a",
   "metadata": {},
   "outputs": [],
   "source": []
  }
 ],
 "metadata": {
  "kernelspec": {
   "display_name": "Python 3 (ipykernel)",
   "language": "python",
   "name": "python3"
  },
  "language_info": {
   "codemirror_mode": {
    "name": "ipython",
    "version": 3
   },
   "file_extension": ".py",
   "mimetype": "text/x-python",
   "name": "python",
   "nbconvert_exporter": "python",
   "pygments_lexer": "ipython3",
   "version": "3.12.4"
  }
 },
 "nbformat": 4,
 "nbformat_minor": 5
}
